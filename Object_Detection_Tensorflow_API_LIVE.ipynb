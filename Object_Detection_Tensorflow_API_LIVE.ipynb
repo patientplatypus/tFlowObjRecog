{
 "cells": [
  {
   "cell_type": "code",
   "execution_count": 1,
   "metadata": {},
   "outputs": [
    {
     "name": "stdout",
     "output_type": "stream",
     "text": [
      "hello there sailor\n",
      "code sample from: https://github.com/priya-dwivedi/Deep-Learning/blob/master/soccer_team_prediction/soccer_realtime.ipynb\n",
      "based on https://towardsdatascience.com/analyse-a-soccer-game-using-tensorflow-object-detection-and-opencv-e321c230e8f2\n",
      "in order to use the webcam we can use: https://www.packtpub.com/mapt/book/application_development/9781785283932/3/ch03lvl1sec28/accessing-the-webcam\n"
     ]
    }
   ],
   "source": [
    "print(\"hello there sailor\")\n",
    "print(\"code sample from: https://github.com/priya-dwivedi/Deep-Learning/blob/master/soccer_team_prediction/soccer_realtime.ipynb\")\n",
    "print(\"based on https://towardsdatascience.com/analyse-a-soccer-game-using-tensorflow-object-detection-and-opencv-e321c230e8f2\")\n",
    "print(\"in order to use the webcam we can use: https://www.packtpub.com/mapt/book/application_development/9781785283932/3/ch03lvl1sec28/accessing-the-webcam\")"
   ]
  },
  {
   "cell_type": "code",
   "execution_count": 2,
   "metadata": {},
   "outputs": [],
   "source": [
    "from __future__ import division\n",
    "import numpy as np\n",
    "import os\n",
    "import six.moves.urllib as urllib\n",
    "import sys\n",
    "import tarfile\n",
    "import tensorflow as tf\n",
    "import zipfile\n",
    "\n",
    "from collections import defaultdict\n",
    "from io import StringIO\n",
    "from PIL import Image\n",
    "import cv2"
   ]
  },
  {
   "cell_type": "code",
   "execution_count": 3,
   "metadata": {},
   "outputs": [],
   "source": [
    "\n",
    "from models.research.object_detection.utils import label_map_util\n",
    "from models.research.object_detection.utils import visualization_utils as vis_util\n",
    "\n",
    "CWD_PATH = os.getcwd()\n",
    "\n",
    "# Path to frozen detection graph. This is the actual model that is used for the object detection.\n",
    "# Note: Model used for SSDLite_Mobilenet_v2\n",
    "MODEL_NAME = 'ssd_mobilenet_v1_coco_2017_11_17'\n",
    "PATH_TO_CKPT = os.path.join(CWD_PATH, 'models', 'research', 'object_detection', MODEL_NAME, 'frozen_inference_graph.pb')\n",
    "\n",
    "# List of the strings that is used to add correct label for each box.\n",
    "PATH_TO_LABELS = os.path.join(CWD_PATH, 'models', 'research', 'object_detection', 'data', 'mscoco_label_map.pbtxt')\n",
    "\n",
    "NUM_CLASSES = 90"
   ]
  },
  {
   "cell_type": "code",
   "execution_count": 4,
   "metadata": {},
   "outputs": [],
   "source": [
    "detection_graph = tf.Graph()\n",
    "with detection_graph.as_default():\n",
    "  od_graph_def = tf.GraphDef()\n",
    "  with tf.gfile.GFile(PATH_TO_CKPT, 'rb') as fid:\n",
    "    serialized_graph = fid.read()\n",
    "    od_graph_def.ParseFromString(serialized_graph)\n",
    "    tf.import_graph_def(od_graph_def, name='')\n",
    "\n",
    "label_map = label_map_util.load_labelmap(PATH_TO_LABELS)\n",
    "categories = label_map_util.convert_label_map_to_categories(label_map, max_num_classes=NUM_CLASSES, use_display_name=True)\n",
    "category_index = label_map_util.create_category_index(categories)"
   ]
  },
  {
   "cell_type": "code",
   "execution_count": null,
   "metadata": {},
   "outputs": [],
   "source": [
    "#intializing the web camera device\n",
    "\n",
    "out = cv2.VideoWriter('cats_out.avi',cv2.VideoWriter_fourcc('M','J','P','G'), 10, (640,360))\n",
    "\n",
    "# in order to use an mp4 from file... \n",
    "filename = 'cats.mp4'\n",
    "cap = cv2.VideoCapture(filename)\n",
    "# alternatively we can use the webcam by commenting out the above 2 lines and using: \n",
    "cap = cv2.VideoCapture(0)\n",
    "if not cap.isOpened():\n",
    "    raise IOError(\"Cannot open webcam\")\n",
    "\n",
    "# Running the tensorflow session\n",
    "with detection_graph.as_default():\n",
    "  with tf.Session(graph=detection_graph) as sess:\n",
    "   counter = 0\n",
    "   while (True):\n",
    "      ret, image_np = cap.read()\n",
    "      counter += 1\n",
    "      if ret:\n",
    "          h = image_np.shape[0]\n",
    "          w = image_np.shape[1]\n",
    "\n",
    "      if not ret:\n",
    "        break\n",
    "      if counter % 1 == 0:\n",
    "          # Expand dimensions since the model expects images to have shape: [1, None, None, 3]\n",
    "          image_np_expanded = np.expand_dims(image_np, axis=0)\n",
    "          image_tensor = detection_graph.get_tensor_by_name('image_tensor:0')\n",
    "          # Each box represents a part of the image where a particular object was detected.\n",
    "          boxes = detection_graph.get_tensor_by_name('detection_boxes:0')\n",
    "          # Each score represent how level of confidence for each of the objects.\n",
    "          # Score is shown on the result image, together with the class label.\n",
    "          scores = detection_graph.get_tensor_by_name('detection_scores:0')\n",
    "          classes = detection_graph.get_tensor_by_name('detection_classes:0')\n",
    "          num_detections = detection_graph.get_tensor_by_name('num_detections:0')\n",
    "          # Actual detection.\n",
    "          (boxes, scores, classes, num_detections) = sess.run(\n",
    "              [boxes, scores, classes, num_detections],\n",
    "              feed_dict={image_tensor: image_np_expanded})\n",
    "          # Visualization of the results of a detection.\n",
    "          vis_util.visualize_boxes_and_labels_on_image_array(\n",
    "              image_np,\n",
    "              np.squeeze(boxes),\n",
    "              np.squeeze(classes).astype(np.int32),\n",
    "              np.squeeze(scores),\n",
    "              category_index,\n",
    "              use_normalized_coordinates=True,\n",
    "              line_thickness=3,\n",
    "              min_score_thresh=0.6)\n",
    "        \n",
    "          frame_number = counter\n",
    "          loc = {}\n",
    "          for n in range(len(scores[0])):\n",
    "             if scores[0][n] > 0.60:\n",
    "                # Calculate position\n",
    "                ymin = int(boxes[0][n][0] * h)\n",
    "                xmin = int(boxes[0][n][1] * w)\n",
    "                ymax = int(boxes[0][n][2] * h)\n",
    "                xmax = int(boxes[0][n][3] * w)\n",
    "\n",
    "                # Find label corresponding to that class\n",
    "                for cat in categories:\n",
    "                    if cat['id'] == classes[0][n]:\n",
    "                        label = cat['name']\n",
    "\n",
    "      cv2.imshow('image', image_np)\n",
    "      out.write(image_np)\n",
    "       \n",
    "      if cv2.waitKey(10) & 0xFF == ord('q'):\n",
    "          cv2.destroyAllWindows()\n",
    "          cap.release()\n",
    "          break"
   ]
  }
 ],
 "metadata": {
  "kernelspec": {
   "display_name": "Python 3",
   "language": "python",
   "name": "python3"
  },
  "language_info": {
   "codemirror_mode": {
    "name": "ipython",
    "version": 3
   },
   "file_extension": ".py",
   "mimetype": "text/x-python",
   "name": "python",
   "nbconvert_exporter": "python",
   "pygments_lexer": "ipython3",
   "version": "3.6.5"
  }
 },
 "nbformat": 4,
 "nbformat_minor": 1
}
